{
 "cells": [
  {
   "cell_type": "code",
   "execution_count": 13,
   "id": "bf327013-a379-4837-8a1d-517423cb9205",
   "metadata": {},
   "outputs": [
    {
     "name": "stdout",
     "output_type": "stream",
     "text": [
      "Select operation\n",
      "1: Add\n",
      "2: Subtract\n",
      "3: Multiply\n",
      "4: Divide\n"
     ]
    },
    {
     "name": "stdin",
     "output_type": "stream",
     "text": [
      "Enter choice for operation (1/2/3/4):  1\n",
      "Enter first Number 2\n",
      "Enter second Number 3\n"
     ]
    },
    {
     "name": "stdout",
     "output_type": "stream",
     "text": [
      "2.0 + 3.0 = 5.0\n"
     ]
    },
    {
     "name": "stdin",
     "output_type": "stream",
     "text": [
      "Do you want to perform another calculation ? (yes or no) yes\n",
      "Enter choice for operation (1/2/3/4):  4\n",
      "Enter first Number 3\n",
      "Enter second Number 0\n"
     ]
    },
    {
     "name": "stdout",
     "output_type": "stream",
     "text": [
      "3.0 / 0.0 = error! Division by zero is not allowed\n"
     ]
    },
    {
     "name": "stdin",
     "output_type": "stream",
     "text": [
      "Do you want to perform another calculation ? (yes or no) no\n"
     ]
    },
    {
     "name": "stdout",
     "output_type": "stream",
     "text": [
      "Exiting the calculator. Goodbye!\n"
     ]
    }
   ],
   "source": [
    "# Function to add two numbers  \n",
    "def add(x, y):\n",
    "    return x + y\n",
    "# Function to subtract two numbers\n",
    "def subtract(x, y):\n",
    "    return x - y\n",
    "# Function to multiply two numbers\n",
    "def multiply(x, y):\n",
    "    return x * y\n",
    "# Function to divide two numbers\n",
    "def divide(x, y):\n",
    "    if y == 0:\n",
    "        return \"error! Division by zero is not allowed\"\n",
    "    else:\n",
    "        return x / y\n",
    "        \n",
    "# Define the calculator function\n",
    "def calculator():\n",
    "    print(\"Select operation\")\n",
    "    print(\"1: Add\")\n",
    "    print(\"2: Subtract\")\n",
    "    print(\"3: Multiply\")\n",
    "    print(\"4: Divide\")\n",
    "\n",
    "    while True:\n",
    "        # Take input from the user \n",
    "        choice = input(\"Enter choice for operation (1/2/3/4): \")\n",
    "        #Check input is one the four operation\n",
    "        if choice in ['1','2','3','4']:\n",
    "            num1 = float(input(\"Enter first Number\"))\n",
    "            num2 = float(input(\"Enter second Number\"))\n",
    "            \n",
    "            if choice == '1':\n",
    "                print(f\"{num1} + {num2} = {add(num1, num2)}\")\n",
    "             \n",
    "            if choice == '2':\n",
    "                print(f\"{num1} - {num2} = {subtract(num1, num2)}\")\n",
    "\n",
    "            if choice == '3':\n",
    "                print(f\"{num1} * {num2} = {multiply(num1, num2)}\")\n",
    "\n",
    "            if choice == '4':\n",
    "                print(f\"{num1} / {num2} = {divide(num1, num2)}\")\n",
    "\n",
    " # Option to exit the loop\n",
    "        next_calculation = input(\"Do you want to perform another calculation ? (yes or no)\")\n",
    "        if next_calculation.lower() != \"yes\":\n",
    "            break\n",
    "   print(\"Exiting the calculator. Goodbye!\")\n",
    "\n",
    "# Call the Claculator \n",
    "calculator()\n",
    "\n",
    "\n"
   ]
  },
  {
   "cell_type": "markdown",
   "id": "c5392cd9-14a5-4f8a-99b1-3837d466b512",
   "metadata": {},
   "source": [
    "### "
   ]
  }
 ],
 "metadata": {
  "kernelspec": {
   "display_name": "Python 3 (ipykernel)",
   "language": "python",
   "name": "python3"
  },
  "language_info": {
   "codemirror_mode": {
    "name": "ipython",
    "version": 3
   },
   "file_extension": ".py",
   "mimetype": "text/x-python",
   "name": "python",
   "nbconvert_exporter": "python",
   "pygments_lexer": "ipython3",
   "version": "3.12.4"
  }
 },
 "nbformat": 4,
 "nbformat_minor": 5
}
